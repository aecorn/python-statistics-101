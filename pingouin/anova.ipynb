{
 "cells": [
  {
   "cell_type": "code",
   "execution_count": 1,
   "id": "9b78b69a-e6b3-448d-afd3-534f080ffcb0",
   "metadata": {},
   "outputs": [
    {
     "data": {
      "text/html": [
       "<div>\n",
       "<style scoped>\n",
       "    .dataframe tbody tr th:only-of-type {\n",
       "        vertical-align: middle;\n",
       "    }\n",
       "\n",
       "    .dataframe tbody tr th {\n",
       "        vertical-align: top;\n",
       "    }\n",
       "\n",
       "    .dataframe thead th {\n",
       "        text-align: right;\n",
       "    }\n",
       "</style>\n",
       "<table border=\"1\" class=\"dataframe\">\n",
       "  <thead>\n",
       "    <tr style=\"text-align: right;\">\n",
       "      <th></th>\n",
       "      <th>Scores</th>\n",
       "      <th>Time</th>\n",
       "      <th>Group</th>\n",
       "      <th>Subject</th>\n",
       "    </tr>\n",
       "  </thead>\n",
       "  <tbody>\n",
       "    <tr>\n",
       "      <th>0</th>\n",
       "      <td>5.971435</td>\n",
       "      <td>August</td>\n",
       "      <td>Control</td>\n",
       "      <td>0</td>\n",
       "    </tr>\n",
       "    <tr>\n",
       "      <th>1</th>\n",
       "      <td>4.309024</td>\n",
       "      <td>August</td>\n",
       "      <td>Control</td>\n",
       "      <td>1</td>\n",
       "    </tr>\n",
       "    <tr>\n",
       "      <th>2</th>\n",
       "      <td>6.932707</td>\n",
       "      <td>August</td>\n",
       "      <td>Control</td>\n",
       "      <td>2</td>\n",
       "    </tr>\n",
       "    <tr>\n",
       "      <th>3</th>\n",
       "      <td>5.187348</td>\n",
       "      <td>August</td>\n",
       "      <td>Control</td>\n",
       "      <td>3</td>\n",
       "    </tr>\n",
       "    <tr>\n",
       "      <th>4</th>\n",
       "      <td>4.779411</td>\n",
       "      <td>August</td>\n",
       "      <td>Control</td>\n",
       "      <td>4</td>\n",
       "    </tr>\n",
       "  </tbody>\n",
       "</table>\n",
       "</div>"
      ],
      "text/plain": [
       "     Scores    Time    Group  Subject\n",
       "0  5.971435  August  Control        0\n",
       "1  4.309024  August  Control        1\n",
       "2  6.932707  August  Control        2\n",
       "3  5.187348  August  Control        3\n",
       "4  4.779411  August  Control        4"
      ]
     },
     "execution_count": 1,
     "metadata": {},
     "output_type": "execute_result"
    }
   ],
   "source": [
    "import pandas as pd\n",
    "import numpy as np\n",
    "\n",
    "# Let's assume that we have a balanced design with 30 students in each group\n",
    "n = 30\n",
    "months = ['August', 'January', 'June']\n",
    "\n",
    "# Generate random data\n",
    "np.random.seed(1234)\n",
    "control = np.random.normal(5.5, size=len(months) * n)\n",
    "meditation = np.r_[ np.random.normal(5.4, size=n),\n",
    "                    np.random.normal(5.8, size=n),\n",
    "                    np.random.normal(6.4, size=n) ]\n",
    "\n",
    "# Create a dataframe\n",
    "df = pd.DataFrame({'Scores': np.r_[control, meditation],\n",
    "                   'Time': np.r_[np.repeat(months, n), np.repeat(months, n)],\n",
    "                   'Group': np.repeat(['Control', 'Meditation'], len(months) * n),\n",
    "                   'Subject': np.r_[np.tile(np.arange(n), 3),\n",
    "                                    np.tile(np.arange(n, n + n), 3)]})\n",
    "df.head()"
   ]
  },
  {
   "cell_type": "code",
   "execution_count": 2,
   "id": "ff760c29-923c-46a6-b23b-5cc2f110a121",
   "metadata": {},
   "outputs": [
    {
     "data": {
      "text/plain": [
       "<AxesSubplot:xlabel='Time', ylabel='Scores'>"
      ]
     },
     "execution_count": 2,
     "metadata": {},
     "output_type": "execute_result"
    },
    {
     "data": {
      "image/png": "[encoded data removed]",
      "text/plain": [
       "<Figure size 432x288 with 1 Axes>"
      ]
     },
     "metadata": {},
     "output_type": "display_data"
    }
   ],
   "source": [
    "import seaborn as sns\n",
    "sns.set()\n",
    "sns.pointplot(data=df, x='Time', y='Scores', hue='Group', dodge=True, markers=['o', 's'],\n",
    "              capsize=.1, errwidth=1, palette='colorblind')"
   ]
  },
  {
   "cell_type": "code",
   "execution_count": 3,
   "id": "eb8dce17-8122-48a5-a307-9c79dbffd2ca",
   "metadata": {},
   "outputs": [
    {
     "data": {
      "text/html": [
       "<div>\n",
       "<style scoped>\n",
       "    .dataframe tbody tr th:only-of-type {\n",
       "        vertical-align: middle;\n",
       "    }\n",
       "\n",
       "    .dataframe tbody tr th {\n",
       "        vertical-align: top;\n",
       "    }\n",
       "\n",
       "    .dataframe thead th {\n",
       "        text-align: right;\n",
       "    }\n",
       "</style>\n",
       "<table border=\"1\" class=\"dataframe\">\n",
       "  <thead>\n",
       "    <tr style=\"text-align: right;\">\n",
       "      <th></th>\n",
       "      <th></th>\n",
       "      <th>mean</th>\n",
       "      <th>std</th>\n",
       "    </tr>\n",
       "    <tr>\n",
       "      <th>Time</th>\n",
       "      <th>Group</th>\n",
       "      <th></th>\n",
       "      <th></th>\n",
       "    </tr>\n",
       "  </thead>\n",
       "  <tbody>\n",
       "    <tr>\n",
       "      <th rowspan=\"2\" valign=\"top\">August</th>\n",
       "      <th>Control</th>\n",
       "      <td>5.51</td>\n",
       "      <td>1.03</td>\n",
       "    </tr>\n",
       "    <tr>\n",
       "      <th>Meditation</th>\n",
       "      <td>5.33</td>\n",
       "      <td>0.81</td>\n",
       "    </tr>\n",
       "    <tr>\n",
       "      <th rowspan=\"2\" valign=\"top\">January</th>\n",
       "      <th>Control</th>\n",
       "      <td>5.60</td>\n",
       "      <td>0.90</td>\n",
       "    </tr>\n",
       "    <tr>\n",
       "      <th>Meditation</th>\n",
       "      <td>5.97</td>\n",
       "      <td>1.07</td>\n",
       "    </tr>\n",
       "    <tr>\n",
       "      <th rowspan=\"2\" valign=\"top\">June</th>\n",
       "      <th>Control</th>\n",
       "      <td>5.59</td>\n",
       "      <td>1.18</td>\n",
       "    </tr>\n",
       "    <tr>\n",
       "      <th>Meditation</th>\n",
       "      <td>6.35</td>\n",
       "      <td>0.93</td>\n",
       "    </tr>\n",
       "  </tbody>\n",
       "</table>\n",
       "</div>"
      ],
      "text/plain": [
       "                    mean   std\n",
       "Time    Group                 \n",
       "August  Control     5.51  1.03\n",
       "        Meditation  5.33  0.81\n",
       "January Control     5.60  0.90\n",
       "        Meditation  5.97  1.07\n",
       "June    Control     5.59  1.18\n",
       "        Meditation  6.35  0.93"
      ]
     },
     "execution_count": 3,
     "metadata": {},
     "output_type": "execute_result"
    }
   ],
   "source": [
    "df.groupby(['Time', 'Group'])['Scores'].agg(['mean', 'std']).round(2)"
   ]
  },
  {
   "cell_type": "code",
   "execution_count": 4,
   "id": "d276f2e9-5cea-4a11-84c2-0b63203b77ff",
   "metadata": {},
   "outputs": [
    {
     "name": "stdout",
     "output_type": "stream",
     "text": [
      "\n",
      "=============\n",
      "ANOVA SUMMARY\n",
      "=============\n",
      "\n",
      "Source          SS    DF1    DF2     MS      F    p-unc    np2      eps\n",
      "-----------  -----  -----  -----  -----  -----  -------  -----  -------\n",
      "Group        4.465      1     58  4.465  4.131    0.047  0.066  nan\n",
      "Time         9.359      2    116  4.679  4.941    0.009  0.078    0.998\n",
      "Interaction  6.539      2    116  3.270  3.452    0.035  0.056  nan\n",
      "\n"
     ]
    },
    {
     "name": "stderr",
     "output_type": "stream",
     "text": [
      "/home/carl/Code/python-statistics-101/.venv/lib/python3.8/site-packages/pingouin/parametric.py:1519: FutureWarning: The frame.append method is deprecated and will be removed from pandas in a future version. Use pandas.concat instead.\n",
      "  aov = aov.append({\n"
     ]
    }
   ],
   "source": [
    "import pingouin as pg\n",
    "# Compute the two-way mixed-design ANOVA\n",
    "aov = pg.mixed_anova(dv='Scores', within='Time', between='Group', subject='Subject', data=df)\n",
    "# Pretty printing of ANOVA summary\n",
    "pg.print_table(aov)"
   ]
  },
  {
   "cell_type": "code",
   "execution_count": 7,
   "id": "7eddab60-2c60-44fd-a060-e91f34e90d6f",
   "metadata": {},
   "outputs": [
    {
     "data": {
      "text/html": [
       "<div>\n",
       "<style scoped>\n",
       "    .dataframe tbody tr th:only-of-type {\n",
       "        vertical-align: middle;\n",
       "    }\n",
       "\n",
       "    .dataframe tbody tr th {\n",
       "        vertical-align: top;\n",
       "    }\n",
       "\n",
       "    .dataframe thead th {\n",
       "        text-align: right;\n",
       "    }\n",
       "</style>\n",
       "<table border=\"1\" class=\"dataframe\">\n",
       "  <thead>\n",
       "    <tr style=\"text-align: right;\">\n",
       "      <th></th>\n",
       "      <th>Scores</th>\n",
       "      <th>Time</th>\n",
       "      <th>Group</th>\n",
       "      <th>Subject</th>\n",
       "    </tr>\n",
       "  </thead>\n",
       "  <tbody>\n",
       "    <tr>\n",
       "      <th>0</th>\n",
       "      <td>5.971435</td>\n",
       "      <td>August</td>\n",
       "      <td>Control</td>\n",
       "      <td>0</td>\n",
       "    </tr>\n",
       "    <tr>\n",
       "      <th>1</th>\n",
       "      <td>4.309024</td>\n",
       "      <td>August</td>\n",
       "      <td>Control</td>\n",
       "      <td>1</td>\n",
       "    </tr>\n",
       "    <tr>\n",
       "      <th>2</th>\n",
       "      <td>6.932707</td>\n",
       "      <td>August</td>\n",
       "      <td>Control</td>\n",
       "      <td>2</td>\n",
       "    </tr>\n",
       "    <tr>\n",
       "      <th>3</th>\n",
       "      <td>5.187348</td>\n",
       "      <td>August</td>\n",
       "      <td>Control</td>\n",
       "      <td>3</td>\n",
       "    </tr>\n",
       "    <tr>\n",
       "      <th>4</th>\n",
       "      <td>4.779411</td>\n",
       "      <td>August</td>\n",
       "      <td>Control</td>\n",
       "      <td>4</td>\n",
       "    </tr>\n",
       "    <tr>\n",
       "      <th>...</th>\n",
       "      <td>...</td>\n",
       "      <td>...</td>\n",
       "      <td>...</td>\n",
       "      <td>...</td>\n",
       "    </tr>\n",
       "    <tr>\n",
       "      <th>175</th>\n",
       "      <td>6.176981</td>\n",
       "      <td>June</td>\n",
       "      <td>Meditation</td>\n",
       "      <td>55</td>\n",
       "    </tr>\n",
       "    <tr>\n",
       "      <th>176</th>\n",
       "      <td>8.523692</td>\n",
       "      <td>June</td>\n",
       "      <td>Meditation</td>\n",
       "      <td>56</td>\n",
       "    </tr>\n",
       "    <tr>\n",
       "      <th>177</th>\n",
       "      <td>6.522273</td>\n",
       "      <td>June</td>\n",
       "      <td>Meditation</td>\n",
       "      <td>57</td>\n",
       "    </tr>\n",
       "    <tr>\n",
       "      <th>178</th>\n",
       "      <td>4.990568</td>\n",
       "      <td>June</td>\n",
       "      <td>Meditation</td>\n",
       "      <td>58</td>\n",
       "    </tr>\n",
       "    <tr>\n",
       "      <th>179</th>\n",
       "      <td>7.822986</td>\n",
       "      <td>June</td>\n",
       "      <td>Meditation</td>\n",
       "      <td>59</td>\n",
       "    </tr>\n",
       "  </tbody>\n",
       "</table>\n",
       "<p>180 rows × 4 columns</p>\n",
       "</div>"
      ],
      "text/plain": [
       "       Scores    Time       Group  Subject\n",
       "0    5.971435  August     Control        0\n",
       "1    4.309024  August     Control        1\n",
       "2    6.932707  August     Control        2\n",
       "3    5.187348  August     Control        3\n",
       "4    4.779411  August     Control        4\n",
       "..        ...     ...         ...      ...\n",
       "175  6.176981    June  Meditation       55\n",
       "176  8.523692    June  Meditation       56\n",
       "177  6.522273    June  Meditation       57\n",
       "178  4.990568    June  Meditation       58\n",
       "179  7.822986    June  Meditation       59\n",
       "\n",
       "[180 rows x 4 columns]"
      ]
     },
     "execution_count": 7,
     "metadata": {},
     "output_type": "execute_result"
    }
   ],
   "source": [
    "df"
   ]
  },
  {
   "cell_type": "code",
   "execution_count": 5,
   "id": "ce71fcea-9729-472c-ae3d-36b3c31438bd",
   "metadata": {},
   "outputs": [
    {
     "ename": "TypeError",
     "evalue": "object of type 'int' has no len()",
     "output_type": "error",
     "traceback": [
      "\u001b[0;31m---------------------------------------------------------------------------\u001b[0m",
      "\u001b[0;31mTypeError\u001b[0m                                 Traceback (most recent call last)",
      "Input \u001b[0;32mIn [5]\u001b[0m, in \u001b[0;36m<module>\u001b[0;34m\u001b[0m\n\u001b[0;32m----> 1\u001b[0m posthocs \u001b[38;5;241m=\u001b[39m \u001b[43mpg\u001b[49m\u001b[38;5;241;43m.\u001b[39;49m\u001b[43mpairwise_ttests\u001b[49m\u001b[43m(\u001b[49m\u001b[43mdv\u001b[49m\u001b[38;5;241;43m=\u001b[39;49m\u001b[38;5;124;43m'\u001b[39;49m\u001b[38;5;124;43mScores\u001b[39;49m\u001b[38;5;124;43m'\u001b[39;49m\u001b[43m,\u001b[49m\u001b[43m \u001b[49m\u001b[43mwithin\u001b[49m\u001b[38;5;241;43m=\u001b[39;49m\u001b[38;5;124;43m'\u001b[39;49m\u001b[38;5;124;43mTime\u001b[39;49m\u001b[38;5;124;43m'\u001b[39;49m\u001b[43m,\u001b[49m\u001b[43m \u001b[49m\u001b[43mbetween\u001b[49m\u001b[38;5;241;43m=\u001b[39;49m\u001b[38;5;124;43m'\u001b[39;49m\u001b[38;5;124;43mGroup\u001b[39;49m\u001b[38;5;124;43m'\u001b[39;49m\u001b[43m,\u001b[49m\n\u001b[1;32m      2\u001b[0m \u001b[43m                              \u001b[49m\u001b[43msubject\u001b[49m\u001b[38;5;241;43m=\u001b[39;49m\u001b[38;5;124;43m'\u001b[39;49m\u001b[38;5;124;43mSubject\u001b[39;49m\u001b[38;5;124;43m'\u001b[39;49m\u001b[43m,\u001b[49m\u001b[43m \u001b[49m\u001b[43mdata\u001b[49m\u001b[38;5;241;43m=\u001b[39;49m\u001b[43mdf\u001b[49m\u001b[43m)\u001b[49m\n\u001b[1;32m      3\u001b[0m pg\u001b[38;5;241m.\u001b[39mprint_table(posthocs)\n",
      "File \u001b[0;32m~/Code/python-statistics-101/.venv/lib/python3.8/site-packages/pingouin/pairwise.py:428\u001b[0m, in \u001b[0;36mpairwise_ttests\u001b[0;34m(data, dv, between, within, subject, parametric, marginal, alpha, alternative, padjust, effsize, correction, nan_policy, return_desc, interaction, within_first)\u001b[0m\n\u001b[1;32m    426\u001b[0m         tmp \u001b[38;5;241m=\u001b[39m data\n\u001b[1;32m    427\u001b[0m     \u001b[38;5;66;03m# Recursive call to pairwise_ttests\u001b[39;00m\n\u001b[0;32m--> 428\u001b[0m     stats \u001b[38;5;241m=\u001b[39m stats\u001b[38;5;241m.\u001b[39mappend(\u001b[43mpairwise_ttests\u001b[49m\u001b[43m(\u001b[49m\n\u001b[1;32m    429\u001b[0m \u001b[43m        \u001b[49m\u001b[43mdv\u001b[49m\u001b[38;5;241;43m=\u001b[39;49m\u001b[43mdv\u001b[49m\u001b[43m,\u001b[49m\u001b[43m \u001b[49m\u001b[43mbetween\u001b[49m\u001b[38;5;241;43m=\u001b[39;49m\u001b[43mfbt\u001b[49m\u001b[43m[\u001b[49m\u001b[43mi\u001b[49m\u001b[43m]\u001b[49m\u001b[43m,\u001b[49m\u001b[43m \u001b[49m\u001b[43mwithin\u001b[49m\u001b[38;5;241;43m=\u001b[39;49m\u001b[43mfwt\u001b[49m\u001b[43m[\u001b[49m\u001b[43mi\u001b[49m\u001b[43m]\u001b[49m\u001b[43m,\u001b[49m\u001b[43m \u001b[49m\u001b[43msubject\u001b[49m\u001b[38;5;241;43m=\u001b[39;49m\u001b[43msubject\u001b[49m\u001b[43m,\u001b[49m\u001b[43m \u001b[49m\u001b[43mdata\u001b[49m\u001b[38;5;241;43m=\u001b[39;49m\u001b[43mtmp\u001b[49m\u001b[43m,\u001b[49m\n\u001b[1;32m    430\u001b[0m \u001b[43m        \u001b[49m\u001b[43mparametric\u001b[49m\u001b[38;5;241;43m=\u001b[39;49m\u001b[43mparametric\u001b[49m\u001b[43m,\u001b[49m\u001b[43m \u001b[49m\u001b[43mmarginal\u001b[49m\u001b[38;5;241;43m=\u001b[39;49m\u001b[43mmarginal\u001b[49m\u001b[43m,\u001b[49m\u001b[43m \u001b[49m\u001b[43malpha\u001b[49m\u001b[38;5;241;43m=\u001b[39;49m\u001b[43malpha\u001b[49m\u001b[43m,\u001b[49m\u001b[43m \u001b[49m\u001b[43malternative\u001b[49m\u001b[38;5;241;43m=\u001b[39;49m\u001b[43malternative\u001b[49m\u001b[43m,\u001b[49m\n\u001b[1;32m    431\u001b[0m \u001b[43m        \u001b[49m\u001b[43mpadjust\u001b[49m\u001b[38;5;241;43m=\u001b[39;49m\u001b[43mpadjust\u001b[49m\u001b[43m,\u001b[49m\u001b[43m \u001b[49m\u001b[43meffsize\u001b[49m\u001b[38;5;241;43m=\u001b[39;49m\u001b[43meffsize\u001b[49m\u001b[43m,\u001b[49m\u001b[43m \u001b[49m\u001b[43mcorrection\u001b[49m\u001b[38;5;241;43m=\u001b[39;49m\u001b[43mcorrection\u001b[49m\u001b[43m,\u001b[49m\u001b[43m \u001b[49m\u001b[43mnan_policy\u001b[49m\u001b[38;5;241;43m=\u001b[39;49m\u001b[43mnan_policy\u001b[49m\u001b[43m,\u001b[49m\n\u001b[1;32m    432\u001b[0m \u001b[43m        \u001b[49m\u001b[43mreturn_desc\u001b[49m\u001b[38;5;241;43m=\u001b[39;49m\u001b[43mreturn_desc\u001b[49m\u001b[43m)\u001b[49m, ignore_index\u001b[38;5;241m=\u001b[39m\u001b[38;5;28;01mTrue\u001b[39;00m, sort\u001b[38;5;241m=\u001b[39m\u001b[38;5;28;01mFalse\u001b[39;00m)\n\u001b[1;32m    434\u001b[0m \u001b[38;5;66;03m# Then compute the interaction between the factors\u001b[39;00m\n\u001b[1;32m    435\u001b[0m \u001b[38;5;28;01mif\u001b[39;00m interaction:\n",
      "File \u001b[0;32m~/Code/python-statistics-101/.venv/lib/python3.8/site-packages/pingouin/pairwise.py:346\u001b[0m, in \u001b[0;36mpairwise_ttests\u001b[0;34m(data, dv, between, within, subject, parametric, marginal, alpha, alternative, padjust, effsize, correction, nan_policy, return_desc, interaction, within_first)\u001b[0m\n\u001b[1;32m    344\u001b[0m \u001b[38;5;28;01mif\u001b[39;00m parametric:\n\u001b[1;32m    345\u001b[0m     stat_name \u001b[38;5;241m=\u001b[39m \u001b[38;5;124m'\u001b[39m\u001b[38;5;124mT\u001b[39m\u001b[38;5;124m'\u001b[39m\n\u001b[0;32m--> 346\u001b[0m     df_ttest \u001b[38;5;241m=\u001b[39m \u001b[43mttest\u001b[49m\u001b[43m(\u001b[49m\n\u001b[1;32m    347\u001b[0m \u001b[43m        \u001b[49m\u001b[43mx\u001b[49m\u001b[43m,\u001b[49m\u001b[43m \u001b[49m\u001b[43my\u001b[49m\u001b[43m,\u001b[49m\u001b[43m \u001b[49m\u001b[43mpaired\u001b[49m\u001b[38;5;241;43m=\u001b[39;49m\u001b[43mpaired\u001b[49m\u001b[43m,\u001b[49m\u001b[43m \u001b[49m\u001b[43malternative\u001b[49m\u001b[38;5;241;43m=\u001b[39;49m\u001b[43malternative\u001b[49m\u001b[43m,\u001b[49m\u001b[43m \u001b[49m\u001b[43mcorrection\u001b[49m\u001b[38;5;241;43m=\u001b[39;49m\u001b[43mcorrection\u001b[49m\u001b[43m)\u001b[49m\n\u001b[1;32m    348\u001b[0m     stats\u001b[38;5;241m.\u001b[39mat[i, \u001b[38;5;124m'\u001b[39m\u001b[38;5;124mBF10\u001b[39m\u001b[38;5;124m'\u001b[39m] \u001b[38;5;241m=\u001b[39m df_ttest\u001b[38;5;241m.\u001b[39mat[\u001b[38;5;124m'\u001b[39m\u001b[38;5;124mT-test\u001b[39m\u001b[38;5;124m'\u001b[39m, \u001b[38;5;124m'\u001b[39m\u001b[38;5;124mBF10\u001b[39m\u001b[38;5;124m'\u001b[39m]\n\u001b[1;32m    349\u001b[0m     stats\u001b[38;5;241m.\u001b[39mat[i, \u001b[38;5;124m'\u001b[39m\u001b[38;5;124mdof\u001b[39m\u001b[38;5;124m'\u001b[39m] \u001b[38;5;241m=\u001b[39m df_ttest\u001b[38;5;241m.\u001b[39mat[\u001b[38;5;124m'\u001b[39m\u001b[38;5;124mT-test\u001b[39m\u001b[38;5;124m'\u001b[39m, \u001b[38;5;124m'\u001b[39m\u001b[38;5;124mdof\u001b[39m\u001b[38;5;124m'\u001b[39m]\n",
      "File \u001b[0;32m~/Code/python-statistics-101/.venv/lib/python3.8/site-packages/pingouin/parametric.py:309\u001b[0m, in \u001b[0;36mttest\u001b[0;34m(x, y, paired, alternative, correction, r, confidence)\u001b[0m\n\u001b[1;32m    307\u001b[0m \u001b[38;5;66;03m# Convert to dataframe\u001b[39;00m\n\u001b[1;32m    308\u001b[0m col_order \u001b[38;5;241m=\u001b[39m [\u001b[38;5;124m'\u001b[39m\u001b[38;5;124mT\u001b[39m\u001b[38;5;124m'\u001b[39m, \u001b[38;5;124m'\u001b[39m\u001b[38;5;124mdof\u001b[39m\u001b[38;5;124m'\u001b[39m, \u001b[38;5;124m'\u001b[39m\u001b[38;5;124malternative\u001b[39m\u001b[38;5;124m'\u001b[39m, \u001b[38;5;124m'\u001b[39m\u001b[38;5;124mp-val\u001b[39m\u001b[38;5;124m'\u001b[39m, ci_name, \u001b[38;5;124m'\u001b[39m\u001b[38;5;124mcohen-d\u001b[39m\u001b[38;5;124m'\u001b[39m, \u001b[38;5;124m'\u001b[39m\u001b[38;5;124mBF10\u001b[39m\u001b[38;5;124m'\u001b[39m, \u001b[38;5;124m'\u001b[39m\u001b[38;5;124mpower\u001b[39m\u001b[38;5;124m'\u001b[39m]\n\u001b[0;32m--> 309\u001b[0m stats \u001b[38;5;241m=\u001b[39m \u001b[43mpd\u001b[49m\u001b[38;5;241;43m.\u001b[39;49m\u001b[43mDataFrame\u001b[49m\u001b[38;5;241;43m.\u001b[39;49m\u001b[43mfrom_records\u001b[49m\u001b[43m(\u001b[49m\u001b[43mstats\u001b[49m\u001b[43m,\u001b[49m\u001b[43m \u001b[49m\u001b[43mcolumns\u001b[49m\u001b[38;5;241;43m=\u001b[39;49m\u001b[43mcol_order\u001b[49m\u001b[43m,\u001b[49m\u001b[43m \u001b[49m\u001b[43mindex\u001b[49m\u001b[38;5;241;43m=\u001b[39;49m\u001b[43m[\u001b[49m\u001b[38;5;124;43m'\u001b[39;49m\u001b[38;5;124;43mT-test\u001b[39;49m\u001b[38;5;124;43m'\u001b[39;49m\u001b[43m]\u001b[49m\u001b[43m)\u001b[49m\n\u001b[1;32m    310\u001b[0m \u001b[38;5;28;01mreturn\u001b[39;00m _postprocess_dataframe(stats)\n",
      "File \u001b[0;32m~/Code/python-statistics-101/.venv/lib/python3.8/site-packages/pandas/core/frame.py:2214\u001b[0m, in \u001b[0;36mDataFrame.from_records\u001b[0;34m(cls, data, index, exclude, columns, coerce_float, nrows)\u001b[0m\n\u001b[1;32m   2211\u001b[0m                 arrays\u001b[38;5;241m.\u001b[39mappend(v)\n\u001b[1;32m   2213\u001b[0m         arr_columns \u001b[38;5;241m=\u001b[39m Index(arr_columns_list)\n\u001b[0;32m-> 2214\u001b[0m         arrays, arr_columns, result_index \u001b[38;5;241m=\u001b[39m \u001b[43mmaybe_reorder\u001b[49m\u001b[43m(\u001b[49m\n\u001b[1;32m   2215\u001b[0m \u001b[43m            \u001b[49m\u001b[43marrays\u001b[49m\u001b[43m,\u001b[49m\u001b[43m \u001b[49m\u001b[43marr_columns\u001b[49m\u001b[43m,\u001b[49m\u001b[43m \u001b[49m\u001b[43mcolumns\u001b[49m\u001b[43m,\u001b[49m\u001b[43m \u001b[49m\u001b[43mindex\u001b[49m\n\u001b[1;32m   2216\u001b[0m \u001b[43m        \u001b[49m\u001b[43m)\u001b[49m\n\u001b[1;32m   2218\u001b[0m \u001b[38;5;28;01melif\u001b[39;00m \u001b[38;5;28misinstance\u001b[39m(data, (np\u001b[38;5;241m.\u001b[39mndarray, DataFrame)):\n\u001b[1;32m   2219\u001b[0m     arrays, columns \u001b[38;5;241m=\u001b[39m to_arrays(data, columns)\n",
      "File \u001b[0;32m~/Code/python-statistics-101/.venv/lib/python3.8/site-packages/pandas/core/frame.py:2164\u001b[0m, in \u001b[0;36mDataFrame.from_records.<locals>.maybe_reorder\u001b[0;34m(arrays, arr_columns, columns, index)\u001b[0m\n\u001b[1;32m   2159\u001b[0m \u001b[38;5;124;03m\"\"\"\u001b[39;00m\n\u001b[1;32m   2160\u001b[0m \u001b[38;5;124;03mIf our desired 'columns' do not match the data's pre-existing 'arr_columns',\u001b[39;00m\n\u001b[1;32m   2161\u001b[0m \u001b[38;5;124;03mwe re-order our arrays.  This is like a pre-emptive (cheap) reindex.\u001b[39;00m\n\u001b[1;32m   2162\u001b[0m \u001b[38;5;124;03m\"\"\"\u001b[39;00m\n\u001b[1;32m   2163\u001b[0m \u001b[38;5;28;01mif\u001b[39;00m \u001b[38;5;28mlen\u001b[39m(arrays):\n\u001b[0;32m-> 2164\u001b[0m     length \u001b[38;5;241m=\u001b[39m \u001b[38;5;28;43mlen\u001b[39;49m\u001b[43m(\u001b[49m\u001b[43marrays\u001b[49m\u001b[43m[\u001b[49m\u001b[38;5;241;43m0\u001b[39;49m\u001b[43m]\u001b[49m\u001b[43m)\u001b[49m\n\u001b[1;32m   2165\u001b[0m \u001b[38;5;28;01melse\u001b[39;00m:\n\u001b[1;32m   2166\u001b[0m     length \u001b[38;5;241m=\u001b[39m \u001b[38;5;241m0\u001b[39m\n",
      "\u001b[0;31mTypeError\u001b[0m: object of type 'int' has no len()"
     ]
    }
   ],
   "source": [
    "posthocs = pg.pairwise_ttests(dv='Scores', within='Time', between='Group',\n",
    "                              subject='Subject', data=df)\n",
    "pg.print_table(posthocs)"
   ]
  },
  {
   "cell_type": "code",
   "execution_count": null,
   "id": "c1a5e0f3-de92-4f26-b289-23990fd1d909",
   "metadata": {},
   "outputs": [],
   "source": []
  }
 ],
 "metadata": {
  "kernelspec": {
   "display_name": "Python 3 (ipykernel)",
   "language": "python",
   "name": "python3"
  },
  "language_info": {
   "codemirror_mode": {
    "name": "ipython",
    "version": 3
   },
   "file_extension": ".py",
   "mimetype": "text/x-python",
   "name": "python",
   "nbconvert_exporter": "python",
   "pygments_lexer": "ipython3",
   "version": "3.8.10"
  }
 },
 "nbformat": 4,
 "nbformat_minor": 5
}
